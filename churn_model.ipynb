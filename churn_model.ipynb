{
 "cells": [
  {
   "cell_type": "markdown",
   "id": "d23a4abb",
   "metadata": {},
   "source": [
    "# Monitoring Gradient Deployments with Arize AI"
   ]
  },
  {
   "cell_type": "markdown",
   "id": "ad5baa3a",
   "metadata": {},
   "source": [
    "## Python Package Installs"
   ]
  },
  {
   "cell_type": "code",
   "execution_count": 24,
   "id": "0eeb9a5a",
   "metadata": {},
   "outputs": [],
   "source": [
    "!pip install -U xgboost -q"
   ]
  },
  {
   "cell_type": "code",
   "execution_count": 25,
   "id": "7c0e91aa-05c9-46e7-9031-20166379b382",
   "metadata": {
    "execution": {
     "iopub.execute_input": "2022-04-12T18:58:08.757757Z",
     "iopub.status.busy": "2022-04-12T18:58:08.757525Z",
     "iopub.status.idle": "2022-04-12T18:58:12.054171Z",
     "shell.execute_reply": "2022-04-12T18:58:12.052934Z",
     "shell.execute_reply.started": "2022-04-12T18:58:08.757699Z"
    }
   },
   "outputs": [],
   "source": [
    "!pip install --upgrade twisted -q"
   ]
  },
  {
   "cell_type": "code",
   "execution_count": 26,
   "id": "5b6829bb-2039-47e0-ad2c-96e7b802b564",
   "metadata": {
    "execution": {
     "iopub.execute_input": "2022-04-12T18:58:12.055815Z",
     "iopub.status.busy": "2022-04-12T18:58:12.055577Z",
     "iopub.status.idle": "2022-04-12T18:58:15.448014Z",
     "shell.execute_reply": "2022-04-12T18:58:15.447264Z",
     "shell.execute_reply.started": "2022-04-12T18:58:12.055776Z"
    }
   },
   "outputs": [],
   "source": [
    "!pip install attrs==19.2.0 -i http://mirrors.aliyun.com/pypi/simple --trusted-host mirrors.aliyun.com -q"
   ]
  },
  {
   "cell_type": "code",
   "execution_count": 4,
   "id": "1da4f1e2-da14-4879-a84d-84d866f13e48",
   "metadata": {
    "execution": {
     "iopub.execute_input": "2022-04-12T18:57:53.358267Z",
     "iopub.status.busy": "2022-04-12T18:57:53.357641Z",
     "iopub.status.idle": "2022-04-12T18:57:54.292142Z",
     "shell.execute_reply": "2022-04-12T18:57:54.291364Z",
     "shell.execute_reply.started": "2022-04-12T18:57:53.358226Z"
    }
   },
   "outputs": [],
   "source": [
    "import pandas as pd\n",
    "pd.set_option('max_columns', None)"
   ]
  },
  {
   "cell_type": "markdown",
   "id": "22668936",
   "metadata": {},
   "source": [
    "## Data Preprocessing"
   ]
  },
  {
   "cell_type": "code",
   "execution_count": 6,
   "id": "d3f417c9-df9b-459f-832d-5984036d5bdb",
   "metadata": {
    "execution": {
     "iopub.execute_input": "2022-04-12T18:57:54.298785Z",
     "iopub.status.busy": "2022-04-12T18:57:54.298570Z",
     "iopub.status.idle": "2022-04-12T18:57:54.442600Z",
     "shell.execute_reply": "2022-04-12T18:57:54.441782Z",
     "shell.execute_reply.started": "2022-04-12T18:57:54.298763Z"
    }
   },
   "outputs": [],
   "source": [
    "df = pd.read_csv('data/WA_Fn-UseC_-Telco-Customer-Churn.csv')\n",
    "\n",
    "target = ['Churn']\n",
    "categorical_cols = ['gender', 'SeniorCitizen', 'Partner', 'Dependents',\n",
    "       'PhoneService', 'MultipleLines', 'InternetService',\n",
    "       'OnlineSecurity', 'OnlineBackup', 'DeviceProtection', 'TechSupport',\n",
    "       'StreamingTV', 'StreamingMovies', 'Contract', 'PaperlessBilling',\n",
    "       'PaymentMethod']\n",
    "continuous_cols = ['tenure', 'MonthlyCharges', 'TotalCharges']\n",
    "\n",
    "df.drop(df[df['TotalCharges'].str.strip() == ''].index, inplace=True)\n",
    "df.reset_index(inplace=True, drop=True)\n",
    "orig = df.copy()\n",
    "\n",
    "df = pd.get_dummies(df.drop(['customerID'], axis=1), columns = categorical_cols, drop_first=True)\n",
    "df = pd.get_dummies(df, columns = target, drop_first=True)\n",
    "df.rename(columns={'Churn_Yes': 'Churn'}, inplace=True)\n",
    "\n",
    "def min_max_normalize(col):\n",
    "    return col / col.abs().max()\n",
    "\n",
    "for col in continuous_cols:\n",
    "    df[col] = df[col].astype('float64')\n",
    "    df[col] = min_max_normalize(df[col])"
   ]
  },
  {
   "cell_type": "markdown",
   "id": "e7d593cb-1004-4a27-be9f-293ccd057a04",
   "metadata": {},
   "source": [
    "## Train Test Split"
   ]
  },
  {
   "cell_type": "code",
   "execution_count": 7,
   "id": "5ba21f40-fe87-4f57-9735-082783b27b87",
   "metadata": {
    "execution": {
     "iopub.execute_input": "2022-04-12T19:04:36.255248Z",
     "iopub.status.busy": "2022-04-12T19:04:36.254956Z",
     "iopub.status.idle": "2022-04-12T19:04:36.266567Z",
     "shell.execute_reply": "2022-04-12T19:04:36.265712Z",
     "shell.execute_reply.started": "2022-04-12T19:04:36.255221Z"
    }
   },
   "outputs": [],
   "source": [
    "from sklearn.model_selection import train_test_split\n",
    "\n",
    "X_train, X_test, y_train, y_test = train_test_split(df.drop(['Churn'],axis=1), df['Churn'], test_size=0.25, random_state=17)\n",
    "\n",
    "X_train, X_val, y_train, y_val = train_test_split(X_train, y_train, test_size=0.25, random_state=17)"
   ]
  },
  {
   "cell_type": "markdown",
   "id": "bdb69d66-7a47-4c91-bcf4-8e20514d244a",
   "metadata": {},
   "source": [
    "## Building and Saving XGBoost Classifier"
   ]
  },
  {
   "cell_type": "code",
   "execution_count": 8,
   "id": "9373a367-1bbf-4662-be49-40e57cf6ea7e",
   "metadata": {
    "execution": {
     "iopub.execute_input": "2022-04-12T19:04:37.022264Z",
     "iopub.status.busy": "2022-04-12T19:04:37.021980Z",
     "iopub.status.idle": "2022-04-12T19:04:40.756895Z",
     "shell.execute_reply": "2022-04-12T19:04:40.756306Z",
     "shell.execute_reply.started": "2022-04-12T19:04:37.022237Z"
    }
   },
   "outputs": [
    {
     "name": "stdout",
     "output_type": "stream",
     "text": [
      "0.7764505119453925\n"
     ]
    }
   ],
   "source": [
    "import xgboost as xgb\n",
    "from sklearn.metrics import accuracy_score\n",
    "\n",
    "# Create and train a XGBoost Classifier\n",
    "xgb_cl = xgb.XGBClassifier(use_label_encoder=False)\n",
    "xgb_cl.fit(X_train, y_train)\n",
    "\n",
    "# Predict on test set\n",
    "preds = xgb_cl.predict(X_test)\n",
    "print(accuracy_score(y_test, preds))"
   ]
  },
  {
   "cell_type": "code",
   "execution_count": null,
   "id": "1a6377aa",
   "metadata": {},
   "outputs": [],
   "source": [
    "# Save model as .json file\n",
    "xgb_cl.save_model('./models/xgb_cl_model.json')"
   ]
  },
  {
   "cell_type": "markdown",
   "id": "6ac716c1",
   "metadata": {},
   "source": [
    "## Preparing Training Dataset to be Logged into Arize"
   ]
  },
  {
   "cell_type": "code",
   "execution_count": 9,
   "id": "81f74e0a-d171-4228-aea0-960f47c94bbb",
   "metadata": {
    "execution": {
     "iopub.execute_input": "2022-04-12T19:04:40.758855Z",
     "iopub.status.busy": "2022-04-12T19:04:40.758396Z",
     "iopub.status.idle": "2022-04-12T19:04:40.784052Z",
     "shell.execute_reply": "2022-04-12T19:04:40.783177Z",
     "shell.execute_reply.started": "2022-04-12T19:04:40.758830Z"
    }
   },
   "outputs": [],
   "source": [
    "train_orig = orig[orig.index.isin(X_train.index)]\n",
    "train_orig.reset_index(drop=True, inplace=True)\n",
    "\n",
    "train_preds = xgb_cl.predict(X_train)\n",
    "\n",
    "train_pred = pd.DataFrame(train_preds, columns=['Prediction'])\n",
    "train_pred['Predicted_Churn'] = 'No'\n",
    "train_pred.loc[train_pred['Prediction'] == 1, 'Predicted_Churn'] = 'Yes'\n",
    "train_pred.drop(['Prediction'], axis=1, inplace=True)\n",
    "\n",
    "combined_train_df = pd.concat([train_orig.reset_index(drop=True), train_pred], axis=1)\n",
    "\n",
    "feature_cols = combined_train_df.drop(['customerID', 'Churn', 'Predicted_Churn'], axis=1).columns"
   ]
  },
  {
   "cell_type": "markdown",
   "id": "a35fcbce-26e8-4c12-a030-30aaf94eccfa",
   "metadata": {},
   "source": [
    "## Integrating Arize API"
   ]
  },
  {
   "cell_type": "code",
   "execution_count": 10,
   "id": "ea0e854b-f8cc-4c9a-bca4-414c9f3470bc",
   "metadata": {
    "execution": {
     "iopub.execute_input": "2022-04-12T19:04:44.945151Z",
     "iopub.status.busy": "2022-04-12T19:04:44.944856Z",
     "iopub.status.idle": "2022-04-12T19:04:49.731600Z",
     "shell.execute_reply": "2022-04-12T19:04:49.730605Z",
     "shell.execute_reply.started": "2022-04-12T19:04:44.945112Z"
    }
   },
   "outputs": [],
   "source": [
    "!pip install arize -q"
   ]
  },
  {
   "cell_type": "code",
   "execution_count": 13,
   "id": "57c2c6b2-41d0-4aa2-9ebc-59ed35060cdf",
   "metadata": {
    "execution": {
     "iopub.execute_input": "2022-04-12T19:04:49.733658Z",
     "iopub.status.busy": "2022-04-12T19:04:49.733457Z",
     "iopub.status.idle": "2022-04-12T19:04:49.814067Z",
     "shell.execute_reply": "2022-04-12T19:04:49.813076Z",
     "shell.execute_reply.started": "2022-04-12T19:04:49.733632Z"
    }
   },
   "outputs": [
    {
     "name": "stdout",
     "output_type": "stream",
     "text": [
      "✅ Arize setup complete!\n"
     ]
    }
   ],
   "source": [
    "from arize.pandas.logger import Client, Schema\n",
    "from arize.utils.types import Environments, ModelTypes\n",
    "\n",
    "SPACE_KEY = \"be431ff\"\n",
    "API_KEY = \"3b6a922ea5ac74536e7\"\n",
    "\n",
    "arize_client = Client(space_key=SPACE_KEY, api_key=API_KEY)\n",
    "\n",
    "model_id = (\n",
    "    \"telco-churn-demo-model\"  # This is the model name that will show up in Arize\n",
    ")\n",
    "model_version = \"v1.0\"  # Version of model - can be any string\n",
    "\n",
    "if SPACE_KEY == \"YOUR-SPACE-KEY\" or API_KEY == \"YOUR-API-KEY\":\n",
    "    raise ValueError(\"❌ NEED TO CHANGE SPACE AND/OR API_KEY\")\n",
    "else:\n",
    "    print(\"✅ Arize setup complete!\")"
   ]
  },
  {
   "cell_type": "code",
   "execution_count": 14,
   "id": "57542d59-a4a8-4c12-b9e7-9359dbb92b24",
   "metadata": {
    "execution": {
     "iopub.execute_input": "2022-04-11T16:30:42.349189Z",
     "iopub.status.busy": "2022-04-11T16:30:42.348519Z",
     "iopub.status.idle": "2022-04-11T16:30:43.000358Z",
     "shell.execute_reply": "2022-04-11T16:30:42.999274Z",
     "shell.execute_reply.started": "2022-04-11T16:30:42.349111Z"
    }
   },
   "outputs": [
    {
     "name": "stdout",
     "output_type": "stream",
     "text": [
      "Success! Check out your data at https://app.arize.com/organizations/QWNjb3VudE9yZ2FuaXphdGlvbjo0Mjg=/spaces/U3BhY2U6NDUx/models/modelName/telco-churn-demo-model?selectedTab=dataIngestion\n",
      "✅ You have successfully logged training set to Arize\n"
     ]
    }
   ],
   "source": [
    "# Define a Schema() object for Arize to pick up data from the correct columns for logging\n",
    "training_schema = Schema(\n",
    "    prediction_id_column_name=\"customerID\",\n",
    "    prediction_label_column_name=\"Predicted_Churn\",\n",
    "    actual_label_column_name=\"Churn\",\n",
    "    feature_column_names=feature_cols,\n",
    ")\n",
    "\n",
    "# Logging Training DataFrame\n",
    "training_response = arize_client.log(\n",
    "    dataframe=combined_train_df,\n",
    "    model_id=model_id,\n",
    "    model_version=model_version,\n",
    "    model_type=ModelTypes.SCORE_CATEGORICAL,\n",
    "    environment=Environments.TRAINING,\n",
    "    schema=training_schema,\n",
    ")\n",
    "\n",
    "# If successful, the server will return a status_code of 200\n",
    "if training_response.status_code != 200:\n",
    "    print(\n",
    "        f\"logging failed with response code {training_response.status_code}, {training_response.text}\"\n",
    "    )\n",
    "else:\n",
    "    print(f\"✅ You have successfully logged training set to Arize\")"
   ]
  },
  {
   "cell_type": "code",
   "execution_count": null,
   "id": "98d99afc",
   "metadata": {},
   "outputs": [],
   "source": []
  }
 ],
 "metadata": {
  "kernelspec": {
   "display_name": "Python 3 (ipykernel)",
   "language": "python",
   "name": "python3"
  },
  "language_info": {
   "codemirror_mode": {
    "name": "ipython",
    "version": 3
   },
   "file_extension": ".py",
   "mimetype": "text/x-python",
   "name": "python",
   "nbconvert_exporter": "python",
   "pygments_lexer": "ipython3",
   "version": "3.9.7"
  }
 },
 "nbformat": 4,
 "nbformat_minor": 5
}
