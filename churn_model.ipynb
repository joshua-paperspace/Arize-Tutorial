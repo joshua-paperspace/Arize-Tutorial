{
 "cells": [
  {
   "cell_type": "code",
   "execution_count": 16,
   "id": "48dd1b43-faa1-45fa-9ba0-472fb3ae79a2",
   "metadata": {
    "execution": {
     "iopub.execute_input": "2022-04-12T18:58:05.251767Z",
     "iopub.status.busy": "2022-04-12T18:58:05.251477Z",
     "iopub.status.idle": "2022-04-12T18:58:08.755667Z",
     "shell.execute_reply": "2022-04-12T18:58:08.754568Z",
     "shell.execute_reply.started": "2022-04-12T18:58:05.251743Z"
    }
   },
   "outputs": [
    {
     "name": "stdout",
     "output_type": "stream",
     "text": [
      "\u001b[33mWARNING: Running pip as the 'root' user can result in broken permissions and conflicting behaviour with the system package manager. It is recommended to use a virtual environment instead: https://pip.pypa.io/warnings/venv\u001b[0m\n"
     ]
    }
   ],
   "source": [
    "!pip install -U xgboost -q"
   ]
  },
  {
   "cell_type": "code",
   "execution_count": 17,
   "id": "7c0e91aa-05c9-46e7-9031-20166379b382",
   "metadata": {
    "execution": {
     "iopub.execute_input": "2022-04-12T18:58:08.757757Z",
     "iopub.status.busy": "2022-04-12T18:58:08.757525Z",
     "iopub.status.idle": "2022-04-12T18:58:12.054171Z",
     "shell.execute_reply": "2022-04-12T18:58:12.052934Z",
     "shell.execute_reply.started": "2022-04-12T18:58:08.757699Z"
    }
   },
   "outputs": [
    {
     "name": "stdout",
     "output_type": "stream",
     "text": [
      "\u001b[33mWARNING: Running pip as the 'root' user can result in broken permissions and conflicting behaviour with the system package manager. It is recommended to use a virtual environment instead: https://pip.pypa.io/warnings/venv\u001b[0m\n"
     ]
    }
   ],
   "source": [
    "!pip install --upgrade twisted -q"
   ]
  },
  {
   "cell_type": "code",
   "execution_count": 18,
   "id": "5b6829bb-2039-47e0-ad2c-96e7b802b564",
   "metadata": {
    "execution": {
     "iopub.execute_input": "2022-04-12T18:58:12.055815Z",
     "iopub.status.busy": "2022-04-12T18:58:12.055577Z",
     "iopub.status.idle": "2022-04-12T18:58:15.448014Z",
     "shell.execute_reply": "2022-04-12T18:58:15.447264Z",
     "shell.execute_reply.started": "2022-04-12T18:58:12.055776Z"
    }
   },
   "outputs": [
    {
     "name": "stdout",
     "output_type": "stream",
     "text": [
      "\u001b[33mWARNING: Running pip as the 'root' user can result in broken permissions and conflicting behaviour with the system package manager. It is recommended to use a virtual environment instead: https://pip.pypa.io/warnings/venv\u001b[0m\n"
     ]
    }
   ],
   "source": [
    "!pip install attrs==19.2.0 -i http://mirrors.aliyun.com/pypi/simple --trusted-host mirrors.aliyun.com -q"
   ]
  },
  {
   "cell_type": "code",
   "execution_count": 19,
   "id": "1da4f1e2-da14-4879-a84d-84d866f13e48",
   "metadata": {
    "execution": {
     "iopub.execute_input": "2022-04-12T18:57:53.358267Z",
     "iopub.status.busy": "2022-04-12T18:57:53.357641Z",
     "iopub.status.idle": "2022-04-12T18:57:54.292142Z",
     "shell.execute_reply": "2022-04-12T18:57:54.291364Z",
     "shell.execute_reply.started": "2022-04-12T18:57:53.358226Z"
    }
   },
   "outputs": [],
   "source": [
    "import pandas as pd"
   ]
  },
  {
   "cell_type": "code",
   "execution_count": 20,
   "id": "8564d10d-a127-41ce-827e-4d375dd63565",
   "metadata": {
    "execution": {
     "iopub.execute_input": "2022-04-12T18:57:54.293747Z",
     "iopub.status.busy": "2022-04-12T18:57:54.293532Z",
     "iopub.status.idle": "2022-04-12T18:57:54.297384Z",
     "shell.execute_reply": "2022-04-12T18:57:54.296561Z",
     "shell.execute_reply.started": "2022-04-12T18:57:54.293695Z"
    }
   },
   "outputs": [],
   "source": [
    "pd.set_option('max_columns', None)"
   ]
  },
  {
   "cell_type": "code",
   "execution_count": 21,
   "id": "d3f417c9-df9b-459f-832d-5984036d5bdb",
   "metadata": {
    "execution": {
     "iopub.execute_input": "2022-04-12T18:57:54.298785Z",
     "iopub.status.busy": "2022-04-12T18:57:54.298570Z",
     "iopub.status.idle": "2022-04-12T18:57:54.442600Z",
     "shell.execute_reply": "2022-04-12T18:57:54.441782Z",
     "shell.execute_reply.started": "2022-04-12T18:57:54.298763Z"
    }
   },
   "outputs": [],
   "source": [
    "df = pd.read_csv('/datasets/telco-churn/WA_Fn-UseC_-Telco-Customer-Churn.csv')\n",
    "\n",
    "target = ['Churn']\n",
    "categorical_cols = ['gender', 'SeniorCitizen', 'Partner', 'Dependents',\n",
    "       'PhoneService', 'MultipleLines', 'InternetService',\n",
    "       'OnlineSecurity', 'OnlineBackup', 'DeviceProtection', 'TechSupport',\n",
    "       'StreamingTV', 'StreamingMovies', 'Contract', 'PaperlessBilling',\n",
    "       'PaymentMethod']\n",
    "continuous_cols = ['tenure', 'MonthlyCharges', 'TotalCharges']\n",
    "\n",
    "df.drop(df[df['TotalCharges'].str.strip() == ''].index, inplace=True)\n",
    "df.reset_index(inplace=True, drop=True)\n",
    "orig = df.copy()\n",
    "\n",
    "df = pd.get_dummies(df.drop(['customerID'], axis=1), columns = categorical_cols, drop_first=True)\n",
    "df = pd.get_dummies(df, columns = target, drop_first=True)\n",
    "df.rename(columns={'Churn_Yes': 'Churn'}, inplace=True)\n",
    "\n",
    "def min_max_normalize(col):\n",
    "    return col / col.abs().max()\n",
    "\n",
    "for col in continuous_cols:\n",
    "    df[col] = df[col].astype('float64')\n",
    "    df[col] = min_max_normalize(df[col])"
   ]
  },
  {
   "cell_type": "code",
   "execution_count": 33,
   "id": "8cbfc89f",
   "metadata": {},
   "outputs": [],
   "source": [
    "temp = pd.DataFrame(orig.iloc[0, :]).T"
   ]
  },
  {
   "cell_type": "code",
   "execution_count": 34,
   "id": "0239c873",
   "metadata": {},
   "outputs": [
    {
     "data": {
      "text/html": [
       "<div>\n",
       "<style scoped>\n",
       "    .dataframe tbody tr th:only-of-type {\n",
       "        vertical-align: middle;\n",
       "    }\n",
       "\n",
       "    .dataframe tbody tr th {\n",
       "        vertical-align: top;\n",
       "    }\n",
       "\n",
       "    .dataframe thead th {\n",
       "        text-align: right;\n",
       "    }\n",
       "</style>\n",
       "<table border=\"1\" class=\"dataframe\">\n",
       "  <thead>\n",
       "    <tr style=\"text-align: right;\">\n",
       "      <th></th>\n",
       "      <th>customerID</th>\n",
       "      <th>gender</th>\n",
       "      <th>SeniorCitizen</th>\n",
       "      <th>Partner</th>\n",
       "      <th>Dependents</th>\n",
       "      <th>tenure</th>\n",
       "      <th>PhoneService</th>\n",
       "      <th>MultipleLines</th>\n",
       "      <th>InternetService</th>\n",
       "      <th>OnlineSecurity</th>\n",
       "      <th>OnlineBackup</th>\n",
       "      <th>DeviceProtection</th>\n",
       "      <th>TechSupport</th>\n",
       "      <th>StreamingTV</th>\n",
       "      <th>StreamingMovies</th>\n",
       "      <th>Contract</th>\n",
       "      <th>PaperlessBilling</th>\n",
       "      <th>PaymentMethod</th>\n",
       "      <th>MonthlyCharges</th>\n",
       "      <th>TotalCharges</th>\n",
       "      <th>Churn</th>\n",
       "    </tr>\n",
       "  </thead>\n",
       "  <tbody>\n",
       "    <tr>\n",
       "      <th>0</th>\n",
       "      <td>7590-VHVEG</td>\n",
       "      <td>Female</td>\n",
       "      <td>0</td>\n",
       "      <td>Yes</td>\n",
       "      <td>No</td>\n",
       "      <td>1</td>\n",
       "      <td>No</td>\n",
       "      <td>No phone service</td>\n",
       "      <td>DSL</td>\n",
       "      <td>No</td>\n",
       "      <td>Yes</td>\n",
       "      <td>No</td>\n",
       "      <td>No</td>\n",
       "      <td>No</td>\n",
       "      <td>No</td>\n",
       "      <td>Month-to-month</td>\n",
       "      <td>Yes</td>\n",
       "      <td>Electronic check</td>\n",
       "      <td>29.85</td>\n",
       "      <td>29.85</td>\n",
       "      <td>No</td>\n",
       "    </tr>\n",
       "  </tbody>\n",
       "</table>\n",
       "</div>"
      ],
      "text/plain": [
       "   customerID  gender SeniorCitizen Partner Dependents tenure PhoneService  \\\n",
       "0  7590-VHVEG  Female             0     Yes         No      1           No   \n",
       "\n",
       "      MultipleLines InternetService OnlineSecurity OnlineBackup  \\\n",
       "0  No phone service             DSL             No          Yes   \n",
       "\n",
       "  DeviceProtection TechSupport StreamingTV StreamingMovies        Contract  \\\n",
       "0               No          No          No              No  Month-to-month   \n",
       "\n",
       "  PaperlessBilling     PaymentMethod MonthlyCharges TotalCharges Churn  \n",
       "0              Yes  Electronic check          29.85        29.85    No  "
      ]
     },
     "execution_count": 34,
     "metadata": {},
     "output_type": "execute_result"
    }
   ],
   "source": [
    "temp.head()"
   ]
  },
  {
   "cell_type": "code",
   "execution_count": 36,
   "id": "5b74d62d",
   "metadata": {},
   "outputs": [
    {
     "data": {
      "text/plain": [
       "'[{\"customerID\":\"7590-VHVEG\",\"gender\":\"Female\",\"SeniorCitizen\":0,\"Partner\":\"Yes\",\"Dependents\":\"No\",\"tenure\":1,\"PhoneService\":\"No\",\"MultipleLines\":\"No phone service\",\"InternetService\":\"DSL\",\"OnlineSecurity\":\"No\",\"OnlineBackup\":\"Yes\",\"DeviceProtection\":\"No\",\"TechSupport\":\"No\",\"StreamingTV\":\"No\",\"StreamingMovies\":\"No\",\"Contract\":\"Month-to-month\",\"PaperlessBilling\":\"Yes\",\"PaymentMethod\":\"Electronic check\",\"MonthlyCharges\":29.85,\"TotalCharges\":\"29.85\",\"Churn\":\"No\"}]'"
      ]
     },
     "execution_count": 36,
     "metadata": {},
     "output_type": "execute_result"
    }
   ],
   "source": [
    "temp.to_json(orient='records')"
   ]
  },
  {
   "cell_type": "markdown",
   "id": "e7d593cb-1004-4a27-be9f-293ccd057a04",
   "metadata": {},
   "source": [
    "## Train-Test Split"
   ]
  },
  {
   "cell_type": "code",
   "execution_count": null,
   "id": "f2dd9463",
   "metadata": {},
   "outputs": [],
   "source": []
  },
  {
   "cell_type": "code",
   "execution_count": 18,
   "id": "5ba21f40-fe87-4f57-9735-082783b27b87",
   "metadata": {
    "execution": {
     "iopub.execute_input": "2022-04-12T19:04:36.255248Z",
     "iopub.status.busy": "2022-04-12T19:04:36.254956Z",
     "iopub.status.idle": "2022-04-12T19:04:36.266567Z",
     "shell.execute_reply": "2022-04-12T19:04:36.265712Z",
     "shell.execute_reply.started": "2022-04-12T19:04:36.255221Z"
    }
   },
   "outputs": [],
   "source": [
    "from sklearn.model_selection import train_test_split\n",
    "\n",
    "X_train, X_test, y_train, y_test = train_test_split(df.drop(['Churn'],axis=1), df['Churn'], test_size=0.25, random_state=17)\n",
    "\n",
    "X_train, X_val, y_train, y_val = train_test_split(X_train, y_train, test_size=0.25, random_state=17)"
   ]
  },
  {
   "cell_type": "markdown",
   "id": "bdb69d66-7a47-4c91-bcf4-8e20514d244a",
   "metadata": {},
   "source": [
    "## XGBoost"
   ]
  },
  {
   "cell_type": "code",
   "execution_count": 19,
   "id": "9373a367-1bbf-4662-be49-40e57cf6ea7e",
   "metadata": {
    "execution": {
     "iopub.execute_input": "2022-04-12T19:04:37.022264Z",
     "iopub.status.busy": "2022-04-12T19:04:37.021980Z",
     "iopub.status.idle": "2022-04-12T19:04:40.756895Z",
     "shell.execute_reply": "2022-04-12T19:04:40.756306Z",
     "shell.execute_reply.started": "2022-04-12T19:04:37.022237Z"
    }
   },
   "outputs": [
    {
     "name": "stdout",
     "output_type": "stream",
     "text": [
      "[19:04:40] WARNING: ../src/learner.cc:1115: Starting in XGBoost 1.3.0, the default evaluation metric used with the objective 'binary:logistic' was changed from 'error' to 'logloss'. Explicitly set eval_metric if you'd like to restore the old behavior.\n",
      "0.7764505119453925\n"
     ]
    }
   ],
   "source": [
    "import xgboost as xgb\n",
    "from sklearn.metrics import accuracy_score\n",
    "\n",
    "xgb_cl = xgb.XGBClassifier(use_label_encoder=False)\n",
    "\n",
    "# Fit\n",
    "xgb_cl.fit(X_train, y_train)\n",
    "\n",
    "# Predict\n",
    "preds = xgb_cl.predict(X_test)\n",
    "print(accuracy_score(y_test, preds))"
   ]
  },
  {
   "cell_type": "code",
   "execution_count": 20,
   "id": "81f74e0a-d171-4228-aea0-960f47c94bbb",
   "metadata": {
    "execution": {
     "iopub.execute_input": "2022-04-12T19:04:40.758855Z",
     "iopub.status.busy": "2022-04-12T19:04:40.758396Z",
     "iopub.status.idle": "2022-04-12T19:04:40.784052Z",
     "shell.execute_reply": "2022-04-12T19:04:40.783177Z",
     "shell.execute_reply.started": "2022-04-12T19:04:40.758830Z"
    }
   },
   "outputs": [],
   "source": [
    "train_orig = orig[orig.index.isin(X_train.index)]\n",
    "train_orig.reset_index(drop=True, inplace=True)\n",
    "\n",
    "train_preds = xgb_cl.predict(X_train)\n",
    "\n",
    "train_pred = pd.DataFrame(train_preds, columns=['Prediction'])\n",
    "train_pred['Predicted_Churn'] = 'No'\n",
    "train_pred.loc[train_pred['Prediction'] == 1, 'Predicted_Churn'] = 'Yes'\n",
    "train_pred.drop(['Prediction'], axis=1, inplace=True)\n",
    "\n",
    "combined_train_df = pd.concat([train_orig.reset_index(drop=True), train_pred], axis=1)"
   ]
  },
  {
   "cell_type": "code",
   "execution_count": 21,
   "id": "1134d9f2-3161-42cd-b140-ef4d9dea11f8",
   "metadata": {
    "execution": {
     "iopub.execute_input": "2022-04-12T19:04:40.785335Z",
     "iopub.status.busy": "2022-04-12T19:04:40.785153Z",
     "iopub.status.idle": "2022-04-12T19:04:40.803877Z",
     "shell.execute_reply": "2022-04-12T19:04:40.803134Z",
     "shell.execute_reply.started": "2022-04-12T19:04:40.785310Z"
    }
   },
   "outputs": [],
   "source": [
    "test_orig = orig[orig.index.isin(X_test.index)]\n",
    "test_orig.reset_index(drop=True, inplace=True)\n",
    "\n",
    "test_preds = xgb_cl.predict(X_test)\n",
    "\n",
    "test_pred = pd.DataFrame(test_preds, columns=['Prediction'])\n",
    "test_pred['Predicted_Churn'] = 'No'\n",
    "test_pred.loc[test_pred['Prediction'] == 1, 'Predicted_Churn'] = 'Yes'\n",
    "test_pred.drop(['Prediction'], axis=1, inplace=True)\n",
    "\n",
    "combined_test_df = pd.concat([test_orig.reset_index(drop=True), test_pred], axis=1)\n",
    "combined_test_df.drop(['Churn'], axis=1, inplace=True)"
   ]
  },
  {
   "cell_type": "markdown",
   "id": "a35fcbce-26e8-4c12-a030-30aaf94eccfa",
   "metadata": {},
   "source": [
    "## Arize"
   ]
  },
  {
   "cell_type": "code",
   "execution_count": 22,
   "id": "ea0e854b-f8cc-4c9a-bca4-414c9f3470bc",
   "metadata": {
    "execution": {
     "iopub.execute_input": "2022-04-12T19:04:44.945151Z",
     "iopub.status.busy": "2022-04-12T19:04:44.944856Z",
     "iopub.status.idle": "2022-04-12T19:04:49.731600Z",
     "shell.execute_reply": "2022-04-12T19:04:49.730605Z",
     "shell.execute_reply.started": "2022-04-12T19:04:44.945112Z"
    }
   },
   "outputs": [
    {
     "name": "stdout",
     "output_type": "stream",
     "text": [
      "\u001b[33mWARNING: Running pip as the 'root' user can result in broken permissions and conflicting behaviour with the system package manager. It is recommended to use a virtual environment instead: https://pip.pypa.io/warnings/venv\u001b[0m\n"
     ]
    }
   ],
   "source": [
    "!pip install arize -q"
   ]
  },
  {
   "cell_type": "code",
   "execution_count": 23,
   "id": "57c2c6b2-41d0-4aa2-9ebc-59ed35060cdf",
   "metadata": {
    "execution": {
     "iopub.execute_input": "2022-04-12T19:04:49.733658Z",
     "iopub.status.busy": "2022-04-12T19:04:49.733457Z",
     "iopub.status.idle": "2022-04-12T19:04:49.814067Z",
     "shell.execute_reply": "2022-04-12T19:04:49.813076Z",
     "shell.execute_reply.started": "2022-04-12T19:04:49.733632Z"
    }
   },
   "outputs": [
    {
     "name": "stdout",
     "output_type": "stream",
     "text": [
      "✅ Arize setup complete!\n"
     ]
    }
   ],
   "source": [
    "from arize.pandas.logger import Client, Schema\n",
    "from arize.utils.types import Environments, ModelTypes\n",
    "\n",
    "SPACE_KEY = \"be431ff\"\n",
    "API_KEY = \"3b6a922ea5ac74536e7\"\n",
    "\n",
    "arize_client = Client(space_key=SPACE_KEY, api_key=API_KEY)\n",
    "\n",
    "model_id = (\n",
    "    \"telco-churn-demo-model\"  # This is the model name that will show up in Arize\n",
    ")\n",
    "model_version = \"v1.0\"  # Version of model - can be any string\n",
    "\n",
    "if SPACE_KEY == \"SPACE_KEY\" or API_KEY == \"API_KEY\":\n",
    "    raise ValueError(\"❌ NEED TO CHANGE SPACE AND/OR API_KEY\")\n",
    "else:\n",
    "    print(\"✅ Arize setup complete!\")"
   ]
  },
  {
   "cell_type": "code",
   "execution_count": 24,
   "id": "421841b0-0395-42af-bce9-becedcd5718c",
   "metadata": {
    "execution": {
     "iopub.execute_input": "2022-04-12T19:04:51.104361Z",
     "iopub.status.busy": "2022-04-12T19:04:51.104073Z",
     "iopub.status.idle": "2022-04-12T19:04:51.113063Z",
     "shell.execute_reply": "2022-04-12T19:04:51.112389Z",
     "shell.execute_reply.started": "2022-04-12T19:04:51.104333Z"
    }
   },
   "outputs": [],
   "source": [
    "feature_cols = combined_train_df.drop(['customerID', 'Churn', 'Predicted_Churn'], axis=1).columns"
   ]
  },
  {
   "cell_type": "code",
   "execution_count": 73,
   "id": "57542d59-a4a8-4c12-b9e7-9359dbb92b24",
   "metadata": {
    "execution": {
     "iopub.execute_input": "2022-04-11T16:30:42.349189Z",
     "iopub.status.busy": "2022-04-11T16:30:42.348519Z",
     "iopub.status.idle": "2022-04-11T16:30:43.000358Z",
     "shell.execute_reply": "2022-04-11T16:30:42.999274Z",
     "shell.execute_reply.started": "2022-04-11T16:30:42.349111Z"
    }
   },
   "outputs": [
    {
     "name": "stderr",
     "output_type": "stream",
     "text": [
      "Success! Check out your data at https://app.arize.com/organizations/QWNjb3VudE9yZ2FuaXphdGlvbjo0Mjg=/spaces/U3BhY2U6NDUx/models/modelName/telco-churn-demo-model?selectedTab=dataIngestion\n"
     ]
    },
    {
     "name": "stdout",
     "output_type": "stream",
     "text": [
      "✅ You have successfully logged training set to Arize\n"
     ]
    }
   ],
   "source": [
    "# Define a Schema() object for Arize to pick up data from the correct columns for logging\n",
    "training_schema = Schema(\n",
    "    prediction_id_column_name=\"customerID\",\n",
    "    prediction_label_column_name=\"Predicted_Churn\",\n",
    "    actual_label_column_name=\"Churn\",\n",
    "    feature_column_names=feature_cols,\n",
    ")\n",
    "\n",
    "# Logging Training DataFrame\n",
    "training_response = arize_client.log(\n",
    "    dataframe=combined_train_df,\n",
    "    model_id=model_id,\n",
    "    model_version=model_version,\n",
    "    model_type=ModelTypes.SCORE_CATEGORICAL,\n",
    "    environment=Environments.TRAINING,\n",
    "    schema=training_schema,\n",
    ")\n",
    "\n",
    "# If successful, the server will return a status_code of 200\n",
    "if training_response.status_code != 200:\n",
    "    print(\n",
    "        f\"logging failed with response code {training_response.status_code}, {training_response.text}\"\n",
    "    )\n",
    "else:\n",
    "    print(f\"✅ You have successfully logged training set to Arize\")"
   ]
  },
  {
   "cell_type": "code",
   "execution_count": 25,
   "id": "5429ffb2-1520-46fa-bba7-9e1298d1e083",
   "metadata": {
    "execution": {
     "iopub.execute_input": "2022-04-12T19:05:02.380320Z",
     "iopub.status.busy": "2022-04-12T19:05:02.379629Z",
     "iopub.status.idle": "2022-04-12T19:05:02.386115Z",
     "shell.execute_reply": "2022-04-12T19:05:02.385346Z",
     "shell.execute_reply.started": "2022-04-12T19:05:02.380293Z"
    }
   },
   "outputs": [],
   "source": [
    "single_pred = pd.DataFrame(combined_test_df.iloc[0, :]).T"
   ]
  },
  {
   "cell_type": "code",
   "execution_count": 26,
   "id": "6796571a-bf12-416b-82a1-7b191a27657a",
   "metadata": {
    "execution": {
     "iopub.execute_input": "2022-04-12T19:05:12.829894Z",
     "iopub.status.busy": "2022-04-12T19:05:12.829587Z",
     "iopub.status.idle": "2022-04-12T19:05:13.174120Z",
     "shell.execute_reply": "2022-04-12T19:05:13.173192Z",
     "shell.execute_reply.started": "2022-04-12T19:05:12.829868Z"
    }
   },
   "outputs": [
    {
     "name": "stderr",
     "output_type": "stream",
     "text": [
      "Success! Check out your data at https://app.arize.com/organizations/QWNjb3VudE9yZ2FuaXphdGlvbjo0Mjg=/spaces/U3BhY2U6NDUx/models/modelName/telco-churn-demo-model?selectedTab=dataIngestion\n"
     ]
    },
    {
     "name": "stdout",
     "output_type": "stream",
     "text": [
      "✅ You have successfully logged training set to Arize\n"
     ]
    }
   ],
   "source": [
    "## Test a single Prod prediction\n",
    "\n",
    "# Define a Schema() object for Arize to pick up data from the correct columns for logging\n",
    "## Add Dates in here somewhere!\n",
    "prod_schema = Schema(\n",
    "    prediction_id_column_name=\"customerID\",\n",
    "    prediction_label_column_name=\"Predicted_Churn\",\n",
    "    # actual_label_column_name=\"Churn\",\n",
    "    feature_column_names=feature_cols,\n",
    ")\n",
    "\n",
    "# Logging Prod DataFrame\n",
    "prod_response = arize_client.log(\n",
    "    dataframe=single_pred,\n",
    "    model_id=model_id,\n",
    "    model_version=model_version,\n",
    "    model_type=ModelTypes.SCORE_CATEGORICAL,\n",
    "    environment=Environments.PRODUCTION,\n",
    "    schema=prod_schema,\n",
    ")\n",
    "\n",
    "# If successful, the server will return a status_code of 200\n",
    "if prod_response.status_code != 200:\n",
    "    print(\n",
    "        f\"logging failed with response code {prod_response.status_code}, {prod_response.text}\"\n",
    "    )\n",
    "else:\n",
    "    print(f\"✅ You have successfully logged training set to Arize\")"
   ]
  },
  {
   "cell_type": "code",
   "execution_count": null,
   "id": "fc98626d-3c65-456b-ae72-5f772daae7d4",
   "metadata": {},
   "outputs": [],
   "source": []
  }
 ],
 "metadata": {
  "kernelspec": {
   "display_name": "Python 3 (ipykernel)",
   "language": "python",
   "name": "python3"
  },
  "language_info": {
   "codemirror_mode": {
    "name": "ipython",
    "version": 3
   },
   "file_extension": ".py",
   "mimetype": "text/x-python",
   "name": "python",
   "nbconvert_exporter": "python",
   "pygments_lexer": "ipython3",
   "version": "3.8.12"
  }
 },
 "nbformat": 4,
 "nbformat_minor": 5
}
